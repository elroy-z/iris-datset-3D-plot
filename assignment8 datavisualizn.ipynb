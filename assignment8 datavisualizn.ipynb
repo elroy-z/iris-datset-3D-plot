{
 "cells": [
  {
   "cell_type": "code",
   "execution_count": null,
   "metadata": {},
   "outputs": [],
   "source": [
    "\"\"\"\n",
    "\n",
    "In this assignment students have to transform iris data into 3 dimensions\n",
    "and plot a 3d chart with transformed dimensions and colour each data\n",
    "point with specific class.\n",
    "Hint:\n",
    "import numpy as np\n",
    "import matplotlib.pyplot as plt\n",
    "from mpl_toolkits.mplot3d import Axes3D\n",
    "from sklearn import decomposition\n",
    "from sklearn import datasets\n",
    "\n",
    "\"\"\""
   ]
  },
  {
   "cell_type": "code",
   "execution_count": 1,
   "metadata": {},
   "outputs": [],
   "source": [
    "import numpy as np \n",
    "import matplotlib.pyplot as plt \n",
    "from mpl_toolkits.mplot3d import Axes3D \n",
    "from sklearn import decomposition \n",
    "from sklearn import datasets\n",
    "import pandas as pd\n",
    "%matplotlib inline\n"
   ]
  },
  {
   "cell_type": "code",
   "execution_count": 32,
   "metadata": {},
   "outputs": [
    {
     "data": {
      "text/plain": [
       "'\\niris = datasets.load_iris(as_frame=True)\\ndf=iris.data\\ndf '"
      ]
     },
     "execution_count": 32,
     "metadata": {},
     "output_type": "execute_result"
    }
   ],
   "source": [
    "\"\"\"\n",
    "iris = datasets.load_iris(as_frame=True)\n",
    "df=iris.data\n",
    "df \"\"\""
   ]
  },
  {
   "cell_type": "code",
   "execution_count": 9,
   "metadata": {},
   "outputs": [
    {
     "data": {
      "text/html": [
       "<div>\n",
       "<style scoped>\n",
       "    .dataframe tbody tr th:only-of-type {\n",
       "        vertical-align: middle;\n",
       "    }\n",
       "\n",
       "    .dataframe tbody tr th {\n",
       "        vertical-align: top;\n",
       "    }\n",
       "\n",
       "    .dataframe thead th {\n",
       "        text-align: right;\n",
       "    }\n",
       "</style>\n",
       "<table border=\"1\" class=\"dataframe\">\n",
       "  <thead>\n",
       "    <tr style=\"text-align: right;\">\n",
       "      <th></th>\n",
       "      <th>sepal length</th>\n",
       "      <th>sepal width</th>\n",
       "      <th>petal length</th>\n",
       "      <th>petal width</th>\n",
       "      <th>target</th>\n",
       "    </tr>\n",
       "  </thead>\n",
       "  <tbody>\n",
       "    <tr>\n",
       "      <th>0</th>\n",
       "      <td>5.1</td>\n",
       "      <td>3.5</td>\n",
       "      <td>1.4</td>\n",
       "      <td>0.2</td>\n",
       "      <td>Iris-setosa</td>\n",
       "    </tr>\n",
       "    <tr>\n",
       "      <th>1</th>\n",
       "      <td>4.9</td>\n",
       "      <td>3.0</td>\n",
       "      <td>1.4</td>\n",
       "      <td>0.2</td>\n",
       "      <td>Iris-setosa</td>\n",
       "    </tr>\n",
       "    <tr>\n",
       "      <th>2</th>\n",
       "      <td>4.7</td>\n",
       "      <td>3.2</td>\n",
       "      <td>1.3</td>\n",
       "      <td>0.2</td>\n",
       "      <td>Iris-setosa</td>\n",
       "    </tr>\n",
       "    <tr>\n",
       "      <th>3</th>\n",
       "      <td>4.6</td>\n",
       "      <td>3.1</td>\n",
       "      <td>1.5</td>\n",
       "      <td>0.2</td>\n",
       "      <td>Iris-setosa</td>\n",
       "    </tr>\n",
       "    <tr>\n",
       "      <th>4</th>\n",
       "      <td>5.0</td>\n",
       "      <td>3.6</td>\n",
       "      <td>1.4</td>\n",
       "      <td>0.2</td>\n",
       "      <td>Iris-setosa</td>\n",
       "    </tr>\n",
       "    <tr>\n",
       "      <th>...</th>\n",
       "      <td>...</td>\n",
       "      <td>...</td>\n",
       "      <td>...</td>\n",
       "      <td>...</td>\n",
       "      <td>...</td>\n",
       "    </tr>\n",
       "    <tr>\n",
       "      <th>145</th>\n",
       "      <td>6.7</td>\n",
       "      <td>3.0</td>\n",
       "      <td>5.2</td>\n",
       "      <td>2.3</td>\n",
       "      <td>Iris-virginica</td>\n",
       "    </tr>\n",
       "    <tr>\n",
       "      <th>146</th>\n",
       "      <td>6.3</td>\n",
       "      <td>2.5</td>\n",
       "      <td>5.0</td>\n",
       "      <td>1.9</td>\n",
       "      <td>Iris-virginica</td>\n",
       "    </tr>\n",
       "    <tr>\n",
       "      <th>147</th>\n",
       "      <td>6.5</td>\n",
       "      <td>3.0</td>\n",
       "      <td>5.2</td>\n",
       "      <td>2.0</td>\n",
       "      <td>Iris-virginica</td>\n",
       "    </tr>\n",
       "    <tr>\n",
       "      <th>148</th>\n",
       "      <td>6.2</td>\n",
       "      <td>3.4</td>\n",
       "      <td>5.4</td>\n",
       "      <td>2.3</td>\n",
       "      <td>Iris-virginica</td>\n",
       "    </tr>\n",
       "    <tr>\n",
       "      <th>149</th>\n",
       "      <td>5.9</td>\n",
       "      <td>3.0</td>\n",
       "      <td>5.1</td>\n",
       "      <td>1.8</td>\n",
       "      <td>Iris-virginica</td>\n",
       "    </tr>\n",
       "  </tbody>\n",
       "</table>\n",
       "<p>150 rows × 5 columns</p>\n",
       "</div>"
      ],
      "text/plain": [
       "     sepal length  sepal width  petal length  petal width          target\n",
       "0             5.1          3.5           1.4          0.2     Iris-setosa\n",
       "1             4.9          3.0           1.4          0.2     Iris-setosa\n",
       "2             4.7          3.2           1.3          0.2     Iris-setosa\n",
       "3             4.6          3.1           1.5          0.2     Iris-setosa\n",
       "4             5.0          3.6           1.4          0.2     Iris-setosa\n",
       "..            ...          ...           ...          ...             ...\n",
       "145           6.7          3.0           5.2          2.3  Iris-virginica\n",
       "146           6.3          2.5           5.0          1.9  Iris-virginica\n",
       "147           6.5          3.0           5.2          2.0  Iris-virginica\n",
       "148           6.2          3.4           5.4          2.3  Iris-virginica\n",
       "149           5.9          3.0           5.1          1.8  Iris-virginica\n",
       "\n",
       "[150 rows x 5 columns]"
      ]
     },
     "execution_count": 9,
     "metadata": {},
     "output_type": "execute_result"
    }
   ],
   "source": [
    "import pandas as pd\n",
    "url = \"https://archive.ics.uci.edu/ml/machine-learning-databases/iris/iris.data\"\n",
    "df = pd.read_csv(url, names=['sepal length','sepal width','petal length','petal width','target'])\n",
    "df"
   ]
  },
  {
   "cell_type": "code",
   "execution_count": 4,
   "metadata": {},
   "outputs": [
    {
     "data": {
      "text/plain": [
       "\"\\n\\nfig=plt.figure()\\nax=fig.add_subplot(111,projection='3d')\\nx=[1,2,3,4,5]\\ny=[6,7,8,9,4]\\nz=[2,3,4,5,6]\\nax.scatter(x,y,z,c='r',marker='o')\\nax.set_xlabel('xaxis')\\nax.set_ylabel('yaxis')\\nax.set_zlabel('zaxis')\\nplt.show()\\n            \""
      ]
     },
     "execution_count": 4,
     "metadata": {},
     "output_type": "execute_result"
    }
   ],
   "source": [
    "\"\"\"\n",
    "general 3d drawing\n",
    "\n",
    "fig=plt.figure()\n",
    "ax=fig.add_subplot(111,projection='3d')\n",
    "x=[1,2,3,4,5]\n",
    "y=[6,7,8,9,4]\n",
    "z=[2,3,4,5,6]\n",
    "ax.scatter(x,y,z,c='r',marker='o')\n",
    "ax.set_xlabel('xaxis')\n",
    "ax.set_ylabel('yaxis')\n",
    "ax.set_zlabel('zaxis')\n",
    "plt.show()\n",
    "            \"\"\""
   ]
  },
  {
   "cell_type": "code",
   "execution_count": 3,
   "metadata": {},
   "outputs": [],
   "source": [
    "X=df.iloc[:,:-1].values\n",
    "y=df.iloc[:,4].values\n"
   ]
  },
  {
   "cell_type": "code",
   "execution_count": 13,
   "metadata": {},
   "outputs": [
    {
     "data": {
      "text/plain": [
       "array([0, 0, 0, 0, 0, 0, 0, 0, 0, 0, 0, 0, 0, 0, 0, 0, 0, 0, 0, 0, 0, 0,\n",
       "       0, 0, 0, 0, 0, 0, 0, 0, 0, 0, 0, 0, 0, 0, 0, 0, 0, 0, 0, 0, 0, 0,\n",
       "       0, 0, 0, 0, 0, 0, 1, 1, 1, 1, 1, 1, 1, 1, 1, 1, 1, 1, 1, 1, 1, 1,\n",
       "       1, 1, 1, 1, 1, 1, 1, 1, 1, 1, 1, 1, 1, 1, 1, 1, 1, 1, 1, 1, 1, 1,\n",
       "       1, 1, 1, 1, 1, 1, 1, 1, 1, 1, 1, 1, 2, 2, 2, 2, 2, 2, 2, 2, 2, 2,\n",
       "       2, 2, 2, 2, 2, 2, 2, 2, 2, 2, 2, 2, 2, 2, 2, 2, 2, 2, 2, 2, 2, 2,\n",
       "       2, 2, 2, 2, 2, 2, 2, 2, 2, 2, 2, 2, 2, 2, 2, 2, 2, 2], dtype=int64)"
      ]
     },
     "execution_count": 13,
     "metadata": {},
     "output_type": "execute_result"
    }
   ],
   "source": [
    "#label encoding the target values\n",
    "from sklearn.preprocessing import LabelEncoder, OneHotEncoder\n",
    "labelencoder_y=LabelEncoder()\n",
    "y=labelencoder_y.fit_transform(y)\n",
    "y"
   ]
  },
  {
   "cell_type": "code",
   "execution_count": 5,
   "metadata": {},
   "outputs": [],
   "source": [
    "#feature scaling\n",
    "from sklearn.preprocessing import StandardScaler\n",
    "sc=StandardScaler()\n",
    "X=sc.fit_transform(X)\n"
   ]
  },
  {
   "cell_type": "code",
   "execution_count": 7,
   "metadata": {},
   "outputs": [
    {
     "data": {
      "text/plain": [
       "array([[-2.26454173e+00,  5.05703903e-01, -1.21943348e-01],\n",
       "       [-2.08642550e+00, -6.55404729e-01, -2.27250832e-01],\n",
       "       [-2.36795045e+00, -3.18477311e-01,  5.14796236e-02],\n",
       "       [-2.30419716e+00, -5.75367713e-01,  9.88604444e-02],\n",
       "       [-2.38877749e+00,  6.74767397e-01,  2.14278490e-02],\n",
       "       [-2.07053681e+00,  1.51854856e+00,  3.06842583e-02],\n",
       "       [-2.44571134e+00,  7.45626750e-02,  3.42197636e-01],\n",
       "       [-2.23384186e+00,  2.47613932e-01, -8.25744645e-02],\n",
       "       [-2.34195768e+00, -1.09514636e+00,  1.53562399e-01],\n",
       "       [-2.18867576e+00, -4.48629048e-01, -2.46559522e-01],\n",
       "       [-2.16348656e+00,  1.07059558e+00, -2.64009373e-01],\n",
       "       [-2.32737775e+00,  1.58587455e-01,  1.00165616e-01],\n",
       "       [-2.22408272e+00, -7.09118158e-01, -2.23214514e-01],\n",
       "       [-2.63971626e+00, -9.38281982e-01,  1.89570030e-01],\n",
       "       [-2.19229151e+00,  1.88997851e+00, -4.69480095e-01],\n",
       "       [-2.25146521e+00,  2.72237108e+00,  3.26037967e-02],\n",
       "       [-2.20275048e+00,  1.51375028e+00, -1.36349158e-03],\n",
       "       [-2.19017916e+00,  5.14304308e-01, -3.86155949e-02],\n",
       "       [-1.89407429e+00,  1.43111071e+00, -3.70742834e-01],\n",
       "       [-2.33994907e+00,  1.15803343e+00,  1.37417719e-01],\n",
       "       [-1.91455639e+00,  4.30465163e-01, -4.16006875e-01],\n",
       "       [-2.20464540e+00,  9.52457317e-01,  1.64738346e-01],\n",
       "       [-2.77416979e+00,  4.89517027e-01,  3.38836384e-01],\n",
       "       [-1.82041156e+00,  1.06750793e-01,  4.00614724e-02],\n",
       "       [-2.22821750e+00,  1.62186163e-01,  1.24201428e-01],\n",
       "       [-1.95702401e+00, -6.07892567e-01, -2.98591029e-01],\n",
       "       [-2.05206331e+00,  2.66014312e-01,  9.20929788e-02],\n",
       "       [-2.16819365e+00,  5.52016495e-01, -2.01295482e-01],\n",
       "       [-2.14030596e+00,  3.36640409e-01, -2.65314545e-01],\n",
       "       [-2.26879019e+00, -3.14878603e-01,  7.55154360e-02],\n",
       "       [-2.14455443e+00, -4.83942097e-01, -6.78557607e-02],\n",
       "       [-1.83193810e+00,  4.45266836e-01, -2.65375244e-01],\n",
       "       [-2.60820287e+00,  1.82847519e+00,  5.14195182e-02],\n",
       "       [-2.43795086e+00,  2.18539162e+00, -7.93497549e-02],\n",
       "       [-2.18867576e+00, -4.48629048e-01, -2.46559522e-01],\n",
       "       [-2.21111990e+00, -1.84337811e-01, -2.18624528e-01],\n",
       "       [-2.04441652e+00,  6.84956426e-01, -4.79411570e-01],\n",
       "       [-2.18867576e+00, -4.48629048e-01, -2.46559522e-01],\n",
       "       [-2.43595220e+00, -8.82169415e-01,  2.01557587e-01],\n",
       "       [-2.17054720e+00,  2.92726955e-01, -1.69938536e-01],\n",
       "       [-2.28652724e+00,  4.67991716e-01,  4.07365390e-02],\n",
       "       [-1.87170722e+00, -2.32769161e+00, -1.94528610e-01],\n",
       "       [-2.55783442e+00, -4.53816380e-01,  3.13571838e-01],\n",
       "       [-1.96427929e+00,  4.97391640e-01,  3.14755610e-01],\n",
       "       [-2.13337283e+00,  1.17143211e+00,  2.52793222e-01],\n",
       "       [-2.07535759e+00, -6.91917347e-01, -5.65590082e-02],\n",
       "       [-2.38125822e+00,  1.15063259e+00,  6.21019035e-02],\n",
       "       [-2.39819169e+00, -3.62390765e-01,  1.46855632e-01],\n",
       "       [-2.22678121e+00,  1.02548255e+00, -1.76645302e-01],\n",
       "       [-2.20595417e+00,  3.22378453e-02, -1.46593527e-01],\n",
       "       [ 1.10399365e+00,  8.63112446e-01, -6.85555108e-01],\n",
       "       [ 7.32481440e-01,  5.98635573e-01, -9.40668020e-02],\n",
       "       [ 1.24210951e+00,  6.14822450e-01, -5.54846534e-01],\n",
       "       [ 3.97307283e-01, -1.75816895e+00, -1.85694824e-02],\n",
       "       [ 1.07259395e+00, -2.11757903e-01, -3.97447438e-01],\n",
       "       [ 3.84458146e-01, -5.91062469e-01,  1.26797690e-01],\n",
       "       [ 7.48715076e-01,  7.78698611e-01,  1.48656023e-01],\n",
       "       [-4.97863388e-01, -1.84886877e+00,  2.55555250e-01],\n",
       "       [ 9.26222368e-01,  3.03308268e-02, -5.95459889e-01],\n",
       "       [ 4.96802558e-03, -1.02940111e+00,  5.42867049e-01],\n",
       "       [-1.24697461e-01, -2.65806268e+00, -3.98134482e-02],\n",
       "       [ 4.38730118e-01, -5.88812850e-02,  2.06703491e-01],\n",
       "       [ 5.51633981e-01, -1.77258156e+00, -7.61380223e-01],\n",
       "       [ 7.17165066e-01, -1.85434315e-01, -6.72998424e-02],\n",
       "       [-3.72583830e-02, -4.32795099e-01,  1.98061449e-01],\n",
       "       [ 8.75890536e-01,  5.09998151e-01, -5.03505832e-01],\n",
       "       [ 3.48006402e-01, -1.90621647e-01,  4.92831518e-01],\n",
       "       [ 1.53392545e-01, -7.90725456e-01, -2.98604516e-01],\n",
       "       [ 1.21530321e+00, -1.63335564e+00, -4.79409914e-01],\n",
       "       [ 1.56941176e-01, -1.30310327e+00, -1.68586746e-01],\n",
       "       [ 7.38256104e-01,  4.02470382e-01,  6.16772626e-01],\n",
       "       [ 4.72369682e-01, -4.16608222e-01, -2.62718283e-01],\n",
       "       [ 1.22798821e+00, -9.40914793e-01, -3.66704859e-01],\n",
       "       [ 6.29381045e-01, -4.16811643e-01, -2.89962474e-01],\n",
       "       [ 7.00472799e-01, -6.34939277e-02, -4.44767559e-01],\n",
       "       [ 8.73536987e-01,  2.50708611e-01, -4.72148886e-01],\n",
       "       [ 1.25422219e+00, -8.26200998e-02, -7.26843529e-01],\n",
       "       [ 1.35823985e+00,  3.28820266e-01, -2.61458074e-01],\n",
       "       [ 6.62126138e-01, -2.24346071e-01,  8.73681069e-02],\n",
       "       [-4.72815133e-02, -1.05721241e+00, -3.15319195e-01],\n",
       "       [ 1.21534209e-01, -1.56359238e+00, -1.45241738e-01],\n",
       "       [ 1.41182261e-02, -1.57339235e+00, -2.36581428e-01],\n",
       "       [ 2.36010837e-01, -7.75923784e-01, -1.47972885e-01],\n",
       "       [ 1.05669143e+00, -6.36901284e-01,  1.06753234e-01],\n",
       "       [ 2.21417088e-01, -2.80847693e-01,  6.67559660e-01],\n",
       "       [ 4.31783161e-01,  8.55136920e-01,  4.50731487e-01],\n",
       "       [ 1.04941336e+00,  5.22197265e-01, -3.96142266e-01],\n",
       "       [ 1.03587821e+00, -1.39246648e+00, -6.85434303e-01],\n",
       "       [ 6.70675999e-02, -2.12620735e-01,  2.94128262e-01],\n",
       "       [ 2.75425066e-01, -1.32981591e+00,  9.34447685e-02],\n",
       "       [ 2.72335066e-01, -1.11944152e+00,  9.81718909e-02],\n",
       "       [ 6.23170540e-01,  2.75426333e-02, -1.93046544e-02],\n",
       "       [ 3.30005364e-01, -9.88900732e-01, -1.95968073e-01],\n",
       "       [-3.73627623e-01, -2.01793227e+00,  1.12184053e-01],\n",
       "       [ 2.82944343e-01, -8.53950717e-01,  1.34118823e-01],\n",
       "       [ 8.90531103e-02, -1.74908548e-01,  1.31448375e-01],\n",
       "       [ 2.24356783e-01, -3.80484659e-01,  1.58769003e-01],\n",
       "       [ 5.73883486e-01, -1.53719974e-01, -2.70039416e-01],\n",
       "       [-4.57012873e-01, -1.53946451e+00,  1.96126173e-01],\n",
       "       [ 2.52244473e-01, -5.95860746e-01,  9.47499397e-02],\n",
       "       [ 1.84767259e+00,  8.71696662e-01,  1.00276099e+00],\n",
       "       [ 1.15318981e+00, -7.01326114e-01,  5.31464635e-01],\n",
       "       [ 2.20634950e+00,  5.54470105e-01, -2.05495910e-01],\n",
       "       [ 1.43868540e+00, -5.00105223e-02,  1.63390464e-01],\n",
       "       [ 1.86789070e+00,  2.91192802e-01,  3.94004333e-01],\n",
       "       [ 2.75419671e+00,  7.88432206e-01, -5.86232704e-01],\n",
       "       [ 3.58374475e-01, -1.56009458e+00,  9.90999895e-01],\n",
       "       [ 2.30300590e+00,  4.09516695e-01, -6.54166687e-01],\n",
       "       [ 2.00173530e+00, -7.23865359e-01, -3.94070448e-01],\n",
       "       [ 2.26755460e+00,  1.92144299e+00,  3.92517658e-01],\n",
       "       [ 1.36590943e+00,  6.93948040e-01,  2.83279516e-01],\n",
       "       [ 1.59906459e+00, -4.28248836e-01,  2.33040821e-02],\n",
       "       [ 1.88425185e+00,  4.14332758e-01,  2.45485540e-02],\n",
       "       [ 1.25308651e+00, -1.16739134e+00,  5.82130271e-01],\n",
       "       [ 1.46406152e+00, -4.44147569e-01,  1.00411052e+00],\n",
       "       [ 1.59180930e+00,  6.77035372e-01,  6.36650721e-01],\n",
       "       [ 1.47128019e+00,  2.53192472e-01,  3.66575092e-02],\n",
       "       [ 2.43737848e+00,  2.55675734e+00, -1.34200082e-01],\n",
       "       [ 3.30914118e+00, -2.36132010e-03, -7.06933959e-01],\n",
       "       [ 1.25398099e+00, -1.71758384e+00, -2.64622084e-01],\n",
       "       [ 2.04049626e+00,  9.07398765e-01,  2.31878114e-01],\n",
       "       [ 9.73915114e-01, -5.71174376e-01,  8.29503781e-01],\n",
       "       [ 2.89806444e+00,  3.97791359e-01, -8.60926842e-01],\n",
       "       [ 1.32919369e+00, -4.86760542e-01, -4.70734933e-03],\n",
       "       [ 1.70424071e+00,  1.01414842e+00,  2.95957877e-01],\n",
       "       [ 1.95772766e+00,  1.00333452e+00, -4.22817052e-01],\n",
       "       [ 1.17190451e+00, -3.18896617e-01,  1.30651910e-01],\n",
       "       [ 1.01978105e+00,  6.55429631e-02,  3.38042170e-01],\n",
       "       [ 1.78600886e+00, -1.93272800e-01,  2.70002526e-01],\n",
       "       [ 1.86477791e+00,  5.55381532e-01, -7.17510683e-01],\n",
       "       [ 2.43549739e+00,  2.46654468e-01, -7.30234006e-01],\n",
       "       [ 2.31608241e+00,  2.62618387e+00, -4.99619543e-01],\n",
       "       [ 1.86037143e+00, -1.84672394e-01,  3.53330279e-01],\n",
       "       [ 1.11127173e+00, -2.95986102e-01, -1.82659608e-01],\n",
       "       [ 1.19746916e+00, -8.17167742e-01, -1.63213782e-01],\n",
       "       [ 2.80094940e+00,  8.44748194e-01, -5.47000957e-01],\n",
       "       [ 1.58015525e+00,  1.07247450e+00,  9.43392608e-01],\n",
       "       [ 1.34704442e+00,  4.22255966e-01,  1.80028706e-01],\n",
       "       [ 9.23432978e-01,  1.92303705e-02,  4.17394303e-01],\n",
       "       [ 1.85355198e+00,  6.72422729e-01, -1.48203294e-02],\n",
       "       [ 2.01615720e+00,  6.10397038e-01,  4.25914947e-01],\n",
       "       [ 1.90311686e+00,  6.86024832e-01,  1.27799364e-01],\n",
       "       [ 1.15318981e+00, -7.01326114e-01,  5.31464635e-01],\n",
       "       [ 2.04330844e+00,  8.64684880e-01,  3.35266061e-01],\n",
       "       [ 2.00169097e+00,  1.04855005e+00,  6.29268888e-01],\n",
       "       [ 1.87052207e+00,  3.82821838e-01,  2.54532319e-01],\n",
       "       [ 1.55849189e+00, -9.05313601e-01, -2.53819099e-02],\n",
       "       [ 1.52084506e+00,  2.66794575e-01,  1.79277203e-01],\n",
       "       [ 1.37639119e+00,  1.01636193e+00,  9.31405052e-01],\n",
       "       [ 9.59298576e-01, -2.22839447e-02,  5.28794187e-01]])"
      ]
     },
     "execution_count": 7,
     "metadata": {},
     "output_type": "execute_result"
    }
   ],
   "source": [
    "# Reducing the dimensionfor 3D\n",
    "from sklearn.decomposition import PCA\n",
    "pca=PCA(n_components=3)\n",
    "X=pca.fit_transform(X)\n",
    "X"
   ]
  },
  {
   "cell_type": "code",
   "execution_count": 10,
   "metadata": {},
   "outputs": [],
   "source": [
    "# Visualizing the 3D chart\n",
    "from mpl_toolkits.mplot3d import Axes3D\n"
   ]
  },
  {
   "cell_type": "code",
   "execution_count": 15,
   "metadata": {},
   "outputs": [
    {
     "data": {
      "image/png": "[encoded data removed]",
      "text/plain": [
       "<Figure size 288x216 with 1 Axes>"
      ]
     },
     "metadata": {
      "needs_background": "light"
     },
     "output_type": "display_data"
    }
   ],
   "source": [
    "fig=plt.figure(1,figsize=(4,3))\n",
    "plt.clf\n",
    "ax=Axes3D(fig, rect=[0,0,.95,1],elev=48,azim=134)\n",
    "plt.cla()\n",
    "#Reorder the labels to have colors matching the cluster results\n",
    "ax.scatter(X[:,0],X[:,1],X[:,2],c=y,edgecolor='k')\n",
    "plt.show()"
   ]
  },
  {
   "cell_type": "code",
   "execution_count": null,
   "metadata": {},
   "outputs": [],
   "source": []
  },
  {
   "cell_type": "code",
   "execution_count": null,
   "metadata": {},
   "outputs": [],
   "source": []
  },
  {
   "cell_type": "code",
   "execution_count": null,
   "metadata": {},
   "outputs": [],
   "source": []
  },
  {
   "cell_type": "code",
   "execution_count": null,
   "metadata": {},
   "outputs": [],
   "source": []
  },
  {
   "cell_type": "code",
   "execution_count": null,
   "metadata": {},
   "outputs": [],
   "source": []
  }
 ],
 "metadata": {
  "kernelspec": {
   "display_name": "Python 3",
   "language": "python",
   "name": "python3"
  },
  "language_info": {
   "codemirror_mode": {
    "name": "ipython",
    "version": 3
   },
   "file_extension": ".py",
   "mimetype": "text/x-python",
   "name": "python",
   "nbconvert_exporter": "python",
   "pygments_lexer": "ipython3",
   "version": "3.8.3"
  }
 },
 "nbformat": 4,
 "nbformat_minor": 4
}
